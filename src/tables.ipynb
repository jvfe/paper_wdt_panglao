{
 "cells": [
  {
   "cell_type": "code",
   "execution_count": 7,
   "metadata": {},
   "outputs": [
    {
     "ename": "JSONDecodeError",
     "evalue": "Expecting value: line 1 column 1 (char 0)",
     "output_type": "error",
     "traceback": [
      "\u001b[0;31m---------------------------------------------------------------------------\u001b[0m",
      "\u001b[0;31mJSONDecodeError\u001b[0m                           Traceback (most recent call last)",
      "\u001b[0;32m<ipython-input-7-a10f266950fe>\u001b[0m in \u001b[0;36m<module>\u001b[0;34m\u001b[0m\n\u001b[1;32m     13\u001b[0m '''\n\u001b[1;32m     14\u001b[0m \u001b[0mr\u001b[0m \u001b[0;34m=\u001b[0m \u001b[0mrequests\u001b[0m\u001b[0;34m.\u001b[0m\u001b[0mget\u001b[0m\u001b[0;34m(\u001b[0m\u001b[0murl\u001b[0m\u001b[0;34m,\u001b[0m \u001b[0mparams\u001b[0m \u001b[0;34m=\u001b[0m \u001b[0;34m{\u001b[0m\u001b[0;34m'format'\u001b[0m\u001b[0;34m:\u001b[0m \u001b[0;34m'json'\u001b[0m\u001b[0;34m,\u001b[0m \u001b[0;34m'query'\u001b[0m\u001b[0;34m:\u001b[0m \u001b[0mquery\u001b[0m\u001b[0;34m}\u001b[0m\u001b[0;34m)\u001b[0m\u001b[0;34m\u001b[0m\u001b[0;34m\u001b[0m\u001b[0m\n\u001b[0;32m---> 15\u001b[0;31m \u001b[0mdata\u001b[0m \u001b[0;34m=\u001b[0m \u001b[0mr\u001b[0m\u001b[0;34m.\u001b[0m\u001b[0mjson\u001b[0m\u001b[0;34m(\u001b[0m\u001b[0;34m)\u001b[0m\u001b[0;34m\u001b[0m\u001b[0;34m\u001b[0m\u001b[0m\n\u001b[0m",
      "\u001b[0;32m~/.local/lib/python3.6/site-packages/requests/models.py\u001b[0m in \u001b[0;36mjson\u001b[0;34m(self, **kwargs)\u001b[0m\n\u001b[1;32m    896\u001b[0m                     \u001b[0;31m# used.\u001b[0m\u001b[0;34m\u001b[0m\u001b[0;34m\u001b[0m\u001b[0;34m\u001b[0m\u001b[0m\n\u001b[1;32m    897\u001b[0m                     \u001b[0;32mpass\u001b[0m\u001b[0;34m\u001b[0m\u001b[0;34m\u001b[0m\u001b[0m\n\u001b[0;32m--> 898\u001b[0;31m         \u001b[0;32mreturn\u001b[0m \u001b[0mcomplexjson\u001b[0m\u001b[0;34m.\u001b[0m\u001b[0mloads\u001b[0m\u001b[0;34m(\u001b[0m\u001b[0mself\u001b[0m\u001b[0;34m.\u001b[0m\u001b[0mtext\u001b[0m\u001b[0;34m,\u001b[0m \u001b[0;34m**\u001b[0m\u001b[0mkwargs\u001b[0m\u001b[0;34m)\u001b[0m\u001b[0;34m\u001b[0m\u001b[0;34m\u001b[0m\u001b[0m\n\u001b[0m\u001b[1;32m    899\u001b[0m \u001b[0;34m\u001b[0m\u001b[0m\n\u001b[1;32m    900\u001b[0m     \u001b[0;34m@\u001b[0m\u001b[0mproperty\u001b[0m\u001b[0;34m\u001b[0m\u001b[0;34m\u001b[0m\u001b[0m\n",
      "\u001b[0;32m~/.local/lib/python3.6/site-packages/simplejson/__init__.py\u001b[0m in \u001b[0;36mloads\u001b[0;34m(s, encoding, cls, object_hook, parse_float, parse_int, parse_constant, object_pairs_hook, use_decimal, **kw)\u001b[0m\n\u001b[1;32m    523\u001b[0m             \u001b[0mparse_constant\u001b[0m \u001b[0;32mis\u001b[0m \u001b[0;32mNone\u001b[0m \u001b[0;32mand\u001b[0m \u001b[0mobject_pairs_hook\u001b[0m \u001b[0;32mis\u001b[0m \u001b[0;32mNone\u001b[0m\u001b[0;34m\u001b[0m\u001b[0;34m\u001b[0m\u001b[0m\n\u001b[1;32m    524\u001b[0m             and not use_decimal and not kw):\n\u001b[0;32m--> 525\u001b[0;31m         \u001b[0;32mreturn\u001b[0m \u001b[0m_default_decoder\u001b[0m\u001b[0;34m.\u001b[0m\u001b[0mdecode\u001b[0m\u001b[0;34m(\u001b[0m\u001b[0ms\u001b[0m\u001b[0;34m)\u001b[0m\u001b[0;34m\u001b[0m\u001b[0;34m\u001b[0m\u001b[0m\n\u001b[0m\u001b[1;32m    526\u001b[0m     \u001b[0;32mif\u001b[0m \u001b[0mcls\u001b[0m \u001b[0;32mis\u001b[0m \u001b[0;32mNone\u001b[0m\u001b[0;34m:\u001b[0m\u001b[0;34m\u001b[0m\u001b[0;34m\u001b[0m\u001b[0m\n\u001b[1;32m    527\u001b[0m         \u001b[0mcls\u001b[0m \u001b[0;34m=\u001b[0m \u001b[0mJSONDecoder\u001b[0m\u001b[0;34m\u001b[0m\u001b[0;34m\u001b[0m\u001b[0m\n",
      "\u001b[0;32m~/.local/lib/python3.6/site-packages/simplejson/decoder.py\u001b[0m in \u001b[0;36mdecode\u001b[0;34m(self, s, _w, _PY3)\u001b[0m\n\u001b[1;32m    368\u001b[0m         \u001b[0;32mif\u001b[0m \u001b[0m_PY3\u001b[0m \u001b[0;32mand\u001b[0m \u001b[0misinstance\u001b[0m\u001b[0;34m(\u001b[0m\u001b[0ms\u001b[0m\u001b[0;34m,\u001b[0m \u001b[0mbytes\u001b[0m\u001b[0;34m)\u001b[0m\u001b[0;34m:\u001b[0m\u001b[0;34m\u001b[0m\u001b[0;34m\u001b[0m\u001b[0m\n\u001b[1;32m    369\u001b[0m             \u001b[0ms\u001b[0m \u001b[0;34m=\u001b[0m \u001b[0mstr\u001b[0m\u001b[0;34m(\u001b[0m\u001b[0ms\u001b[0m\u001b[0;34m,\u001b[0m \u001b[0mself\u001b[0m\u001b[0;34m.\u001b[0m\u001b[0mencoding\u001b[0m\u001b[0;34m)\u001b[0m\u001b[0;34m\u001b[0m\u001b[0;34m\u001b[0m\u001b[0m\n\u001b[0;32m--> 370\u001b[0;31m         \u001b[0mobj\u001b[0m\u001b[0;34m,\u001b[0m \u001b[0mend\u001b[0m \u001b[0;34m=\u001b[0m \u001b[0mself\u001b[0m\u001b[0;34m.\u001b[0m\u001b[0mraw_decode\u001b[0m\u001b[0;34m(\u001b[0m\u001b[0ms\u001b[0m\u001b[0;34m)\u001b[0m\u001b[0;34m\u001b[0m\u001b[0;34m\u001b[0m\u001b[0m\n\u001b[0m\u001b[1;32m    371\u001b[0m         \u001b[0mend\u001b[0m \u001b[0;34m=\u001b[0m \u001b[0m_w\u001b[0m\u001b[0;34m(\u001b[0m\u001b[0ms\u001b[0m\u001b[0;34m,\u001b[0m \u001b[0mend\u001b[0m\u001b[0;34m)\u001b[0m\u001b[0;34m.\u001b[0m\u001b[0mend\u001b[0m\u001b[0;34m(\u001b[0m\u001b[0;34m)\u001b[0m\u001b[0;34m\u001b[0m\u001b[0;34m\u001b[0m\u001b[0m\n\u001b[1;32m    372\u001b[0m         \u001b[0;32mif\u001b[0m \u001b[0mend\u001b[0m \u001b[0;34m!=\u001b[0m \u001b[0mlen\u001b[0m\u001b[0;34m(\u001b[0m\u001b[0ms\u001b[0m\u001b[0;34m)\u001b[0m\u001b[0;34m:\u001b[0m\u001b[0;34m\u001b[0m\u001b[0;34m\u001b[0m\u001b[0m\n",
      "\u001b[0;32m~/.local/lib/python3.6/site-packages/simplejson/decoder.py\u001b[0m in \u001b[0;36mraw_decode\u001b[0;34m(self, s, idx, _w, _PY3)\u001b[0m\n\u001b[1;32m    398\u001b[0m             \u001b[0;32melif\u001b[0m \u001b[0mord0\u001b[0m \u001b[0;34m==\u001b[0m \u001b[0;36m0xef\u001b[0m \u001b[0;32mand\u001b[0m \u001b[0ms\u001b[0m\u001b[0;34m[\u001b[0m\u001b[0midx\u001b[0m\u001b[0;34m:\u001b[0m\u001b[0midx\u001b[0m \u001b[0;34m+\u001b[0m \u001b[0;36m3\u001b[0m\u001b[0;34m]\u001b[0m \u001b[0;34m==\u001b[0m \u001b[0;34m'\\xef\\xbb\\xbf'\u001b[0m\u001b[0;34m:\u001b[0m\u001b[0;34m\u001b[0m\u001b[0;34m\u001b[0m\u001b[0m\n\u001b[1;32m    399\u001b[0m                 \u001b[0midx\u001b[0m \u001b[0;34m+=\u001b[0m \u001b[0;36m3\u001b[0m\u001b[0;34m\u001b[0m\u001b[0;34m\u001b[0m\u001b[0m\n\u001b[0;32m--> 400\u001b[0;31m         \u001b[0;32mreturn\u001b[0m \u001b[0mself\u001b[0m\u001b[0;34m.\u001b[0m\u001b[0mscan_once\u001b[0m\u001b[0;34m(\u001b[0m\u001b[0ms\u001b[0m\u001b[0;34m,\u001b[0m \u001b[0midx\u001b[0m\u001b[0;34m=\u001b[0m\u001b[0m_w\u001b[0m\u001b[0;34m(\u001b[0m\u001b[0ms\u001b[0m\u001b[0;34m,\u001b[0m \u001b[0midx\u001b[0m\u001b[0;34m)\u001b[0m\u001b[0;34m.\u001b[0m\u001b[0mend\u001b[0m\u001b[0;34m(\u001b[0m\u001b[0;34m)\u001b[0m\u001b[0;34m)\u001b[0m\u001b[0;34m\u001b[0m\u001b[0;34m\u001b[0m\u001b[0m\n\u001b[0m",
      "\u001b[0;31mJSONDecodeError\u001b[0m: Expecting value: line 1 column 1 (char 0)"
     ]
    }
   ],
   "source": [
    "from wikidata2df import wikidata2df\n",
    "\n",
    "query = \"\"\"\n",
    "\n",
    "SELECT ?geneLabel ?cellTypeLabel ?processLabel\n",
    "WHERE \n",
    "{\n",
    "  ?protein wdt:P682 wd:Q1456827. # protein molecular process neurogenesis\n",
    "  ?protein wdt:P702 ?gene.       # protein encoded by gene\n",
    "  \n",
    "  {?gene wdt:P31 wd:Q277338.}    # gene is an instance of a pseudogene \n",
    "  UNION                          # or\n",
    "  {?gene wdt:P31 wd:Q7187.}      # gene is an instance of a gene\n",
    "  ?gene wdt:P703 wd:Q15978631.   # gene is found in taxon Homo sapiens\n",
    "  \n",
    "  ?cellType wdt:P8872 ?gene.     # cell type has marker gene\n",
    "  \n",
    "  ?cellType rdfs:label ?cellTypeLabel.\n",
    "  ?gene   rdfs:label ?geneLabel.\n",
    "  wd:Q1456827 rdfs:label ?processLabel\n",
    "\n",
    "  FILTER(LANG(?cellTypeLabel) = \"en\")\n",
    "  FILTER(LANG(?geneLabel) = \"en\")\n",
    "  FILTER(LANG(?processLabel) = \"en\")\n",
    "\n",
    "}\n",
    "LIMIT 10\n",
    "\"\"\"\n",
    "\n",
    "neurogenesis = wikidata2df(query)"
   ]
  },
  {
   "cell_type": "code",
   "execution_count": 9,
   "metadata": {},
   "outputs": [
    {
     "name": "stdout",
     "output_type": "stream",
     "text": [
      "| geneLabel   | processLabel   | cellTypeLabel                   |\n",
      "|:------------|:---------------|:--------------------------------|\n",
      "| EPHB1       | neurogenesis   | human oligodendrocyte           |\n",
      "| EPHB1       | neurogenesis   | human osteoclast                |\n",
      "| OMP         | neurogenesis   | human purkinje neuron           |\n",
      "| OMP         | neurogenesis   | human olfactory epithelial cell |\n",
      "| OMP         | neurogenesis   | human neuron                    |\n",
      "| PCSK9       | neurogenesis   | human delta cell                |\n",
      "| PCSK9       | neurogenesis   | human loop of Henle cell        |\n",
      "| CXCR4       | neurogenesis   | human b cell                    |\n",
      "| CXCR4       | neurogenesis   | human T cell                    |\n",
      "| CXCR4       | neurogenesis   | human nk cell                   |\n"
     ]
    }
   ],
   "source": [
    "from tabulate import tabulate\n",
    "print(tabulate(neurogenesis.head(10), tablefmt=\"pipe\", headers=\"keys\",showindex=\"never\"))\n"
   ]
  },
  {
   "cell_type": "code",
   "execution_count": 10,
   "metadata": {},
   "outputs": [],
   "source": [
    "query = \"\"\"\n",
    "\n",
    "SELECT ?cellTypeLabel ?geneLabel ?diseaseLabel \n",
    "WHERE \n",
    "{\n",
    "  wd:Q11085 wdt:P2293 ?diseaseGene.  # Parkinson's disease --> genetic association --> gene\n",
    "  ?cellType wdt:P8872 ?diseaseGene. # Cell type --> has marker --> gene\n",
    "  \n",
    "  ?cellType rdfs:label ?cellTypeLabel.\n",
    "  wd:Q11085 rdfs:label ?diseaseLabel.\n",
    "  ?diseaseGene   rdfs:label ?geneLabel.\n",
    "\n",
    "  FILTER(LANG(?cellTypeLabel) = \"en\")\n",
    "  FILTER(LANG(?diseaseLabel) = \"en\")\n",
    "  FILTER(LANG(?geneLabel) = \"en\")\n",
    "}\n",
    "LIMIT 5\n",
    "\"\"\"\n",
    "\n",
    "# https://w.wiki/yQD\n",
    "\n",
    "parkinson = wikidata2df(query)"
   ]
  },
  {
   "cell_type": "code",
   "execution_count": 12,
   "metadata": {},
   "outputs": [
    {
     "name": "stdout",
     "output_type": "stream",
     "text": [
      "| geneLabel   | diseaseLabel        | cellTypeLabel    |\n",
      "|:------------|:--------------------|:-----------------|\n",
      "| BST1        | Parkinson's disease | human b cell     |\n",
      "| BST1        | Parkinson's disease | human neutrophil |\n",
      "| RIT2        | Parkinson's disease | human neuron     |\n",
      "| SH3GL2      | Parkinson's disease | human alpha cell |\n",
      "| SH3GL2      | Parkinson's disease | human beta cell  |\n"
     ]
    }
   ],
   "source": [
    "print(tabulate(parkinson.head(10), tablefmt=\"pipe\", headers=\"keys\",showindex=\"never\"))"
   ]
  },
  {
   "cell_type": "code",
   "execution_count": 3,
   "metadata": {},
   "outputs": [
    {
     "ename": "HTTPError",
     "evalue": "403 Client Error: Forbidden for url: https://query.wikidata.org/sparql?query=%0A%0ASELECT+%3FcellTypeLabel+%3FdiseaseLabel+%0AWHERE+%0A%7B%0A++wd%3AQ101405087+wdt%3AP8872+%3FdiseaseGene+.++++%23+human+pancreatic+beta+cell+--%3E++has+marker+--%3E++gene%0A++%3Fdisease+wdt%3AP2293+%3FdiseaseGene+.+++++++++%23+disease+--%3E+genetic+association+--%3E+gene+%0A+%7D%0A%0ALIMIT+5%0A",
     "output_type": "error",
     "traceback": [
      "\u001b[0;31m---------------------------------------------------------------------------\u001b[0m",
      "\u001b[0;31mHTTPError\u001b[0m                                 Traceback (most recent call last)",
      "\u001b[0;32m~/.local/lib/python3.6/site-packages/wikidata2df/wikidata2df.py\u001b[0m in \u001b[0;36mperform_query\u001b[0;34m(query)\u001b[0m\n\u001b[1;32m     32\u001b[0m         )\n\u001b[0;32m---> 33\u001b[0;31m         \u001b[0mresponse\u001b[0m\u001b[0;34m.\u001b[0m\u001b[0mraise_for_status\u001b[0m\u001b[0;34m(\u001b[0m\u001b[0;34m)\u001b[0m\u001b[0;34m\u001b[0m\u001b[0;34m\u001b[0m\u001b[0m\n\u001b[0m\u001b[1;32m     34\u001b[0m \u001b[0;34m\u001b[0m\u001b[0m\n",
      "\u001b[0;32m~/.local/lib/python3.6/site-packages/requests/models.py\u001b[0m in \u001b[0;36mraise_for_status\u001b[0;34m(self)\u001b[0m\n\u001b[1;32m    940\u001b[0m         \u001b[0;32mif\u001b[0m \u001b[0mhttp_error_msg\u001b[0m\u001b[0;34m:\u001b[0m\u001b[0;34m\u001b[0m\u001b[0;34m\u001b[0m\u001b[0m\n\u001b[0;32m--> 941\u001b[0;31m             \u001b[0;32mraise\u001b[0m \u001b[0mHTTPError\u001b[0m\u001b[0;34m(\u001b[0m\u001b[0mhttp_error_msg\u001b[0m\u001b[0;34m,\u001b[0m \u001b[0mresponse\u001b[0m\u001b[0;34m=\u001b[0m\u001b[0mself\u001b[0m\u001b[0;34m)\u001b[0m\u001b[0;34m\u001b[0m\u001b[0;34m\u001b[0m\u001b[0m\n\u001b[0m\u001b[1;32m    942\u001b[0m \u001b[0;34m\u001b[0m\u001b[0m\n",
      "\u001b[0;31mHTTPError\u001b[0m: 403 Client Error: Forbidden for url: https://query.wikidata.org/sparql?query=%0A%0ASELECT+%3FcellTypeLabel+%3FdiseaseLabel+%0AWHERE+%0A%7B%0A++wd%3AQ101405087+wdt%3AP8872+%3FdiseaseGene+.++++%23+human+pancreatic+beta+cell+--%3E++has+marker+--%3E++gene%0A++%3Fdisease+wdt%3AP2293+%3FdiseaseGene+.+++++++++%23+disease+--%3E+genetic+association+--%3E+gene+%0A+%7D%0A%0ALIMIT+5%0A",
      "\nDuring handling of the above exception, another exception occurred:\n",
      "\u001b[0;31mHTTPError\u001b[0m                                 Traceback (most recent call last)",
      "\u001b[0;32m<ipython-input-3-def561c8b747>\u001b[0m in \u001b[0;36m<module>\u001b[0;34m\u001b[0m\n\u001b[1;32m     13\u001b[0m \u001b[0;31m# https://w.wiki/yQE\u001b[0m\u001b[0;34m\u001b[0m\u001b[0;34m\u001b[0m\u001b[0;34m\u001b[0m\u001b[0m\n\u001b[1;32m     14\u001b[0m \u001b[0;34m\u001b[0m\u001b[0m\n\u001b[0;32m---> 15\u001b[0;31m \u001b[0mbeta_cell\u001b[0m \u001b[0;34m=\u001b[0m \u001b[0mwikidata2df\u001b[0m\u001b[0;34m(\u001b[0m\u001b[0mquery\u001b[0m\u001b[0;34m)\u001b[0m\u001b[0;34m\u001b[0m\u001b[0;34m\u001b[0m\u001b[0m\n\u001b[0m",
      "\u001b[0;32m~/.local/lib/python3.6/site-packages/wikidata2df/wikidata2df.py\u001b[0m in \u001b[0;36mwikidata2df\u001b[0;34m(query)\u001b[0m\n\u001b[1;32m     88\u001b[0m     \"\"\"\n\u001b[1;32m     89\u001b[0m \u001b[0;34m\u001b[0m\u001b[0m\n\u001b[0;32m---> 90\u001b[0;31m     \u001b[0mquery_res\u001b[0m \u001b[0;34m=\u001b[0m \u001b[0mperform_query\u001b[0m\u001b[0;34m(\u001b[0m\u001b[0mquery\u001b[0m\u001b[0;34m)\u001b[0m\u001b[0;34m\u001b[0m\u001b[0;34m\u001b[0m\u001b[0m\n\u001b[0m\u001b[1;32m     91\u001b[0m \u001b[0;34m\u001b[0m\u001b[0m\n\u001b[1;32m     92\u001b[0m     \u001b[0mparsed_res\u001b[0m \u001b[0;34m=\u001b[0m \u001b[0mparse_query_results\u001b[0m\u001b[0;34m(\u001b[0m\u001b[0mquery_res\u001b[0m\u001b[0;34m)\u001b[0m\u001b[0;34m\u001b[0m\u001b[0;34m\u001b[0m\u001b[0m\n",
      "\u001b[0;32m~/.local/lib/python3.6/site-packages/wikidata2df/wikidata2df.py\u001b[0m in \u001b[0;36mperform_query\u001b[0;34m(query)\u001b[0m\n\u001b[1;32m     34\u001b[0m \u001b[0;34m\u001b[0m\u001b[0m\n\u001b[1;32m     35\u001b[0m     \u001b[0;32mexcept\u001b[0m \u001b[0mrequests\u001b[0m\u001b[0;34m.\u001b[0m\u001b[0mexceptions\u001b[0m\u001b[0;34m.\u001b[0m\u001b[0mHTTPError\u001b[0m \u001b[0;32mas\u001b[0m \u001b[0merr\u001b[0m\u001b[0;34m:\u001b[0m\u001b[0;34m\u001b[0m\u001b[0;34m\u001b[0m\u001b[0m\n\u001b[0;32m---> 36\u001b[0;31m         \u001b[0;32mraise\u001b[0m \u001b[0mrequests\u001b[0m\u001b[0;34m.\u001b[0m\u001b[0mexceptions\u001b[0m\u001b[0;34m.\u001b[0m\u001b[0mHTTPError\u001b[0m\u001b[0;34m(\u001b[0m\u001b[0merr\u001b[0m\u001b[0;34m)\u001b[0m\u001b[0;34m\u001b[0m\u001b[0;34m\u001b[0m\u001b[0m\n\u001b[0m\u001b[1;32m     37\u001b[0m \u001b[0;34m\u001b[0m\u001b[0m\n\u001b[1;32m     38\u001b[0m     \u001b[0;32melse\u001b[0m\u001b[0;34m:\u001b[0m\u001b[0;34m\u001b[0m\u001b[0;34m\u001b[0m\u001b[0m\n",
      "\u001b[0;31mHTTPError\u001b[0m: 403 Client Error: Forbidden for url: https://query.wikidata.org/sparql?query=%0A%0ASELECT+%3FcellTypeLabel+%3FdiseaseLabel+%0AWHERE+%0A%7B%0A++wd%3AQ101405087+wdt%3AP8872+%3FdiseaseGene+.++++%23+human+pancreatic+beta+cell+--%3E++has+marker+--%3E++gene%0A++%3Fdisease+wdt%3AP2293+%3FdiseaseGene+.+++++++++%23+disease+--%3E+genetic+association+--%3E+gene+%0A+%7D%0A%0ALIMIT+5%0A"
     ]
    }
   ],
   "source": [
    "query = \"\"\"\n",
    "\n",
    "SELECT ?cellTypeLabel ?diseaseLabel \n",
    "WHERE \n",
    "{\n",
    "  wd:Q101405087 wdt:P8872 ?diseaseGene .    # human pancreatic beta cell -->  has marker -->  gene\n",
    "  ?disease wdt:P2293 ?diseaseGene .         # disease --> genetic association --> gene \n",
    " }\n",
    "\n",
    "LIMIT 5\n",
    "\"\"\"\n",
    "\n",
    "# https://w.wiki/yQE\n",
    "\n",
    "beta_cell = wikidata2df(query)"
   ]
  },
  {
   "cell_type": "code",
   "execution_count": 14,
   "metadata": {},
   "outputs": [
    {
     "name": "stdout",
     "output_type": "stream",
     "text": [
      "| diseaseLabel        | genes                   |   count | cellTypeLabel   |\n",
      "|:--------------------|:------------------------|--------:|:----------------|\n",
      "| obesity             | PCSK2, ADCYAP1, SLC30A8 |       3 | human beta cell |\n",
      "| type 2 diabetes     | SLC30A8, TGFBR3         |       2 | human beta cell |\n",
      "| Parkinson's disease | SH3GL2                  |       1 | human beta cell |\n",
      "| asthma              | SLC30A8                 |       1 | human beta cell |\n",
      "| aniridia            | PAX6                    |       1 | human beta cell |\n"
     ]
    }
   ],
   "source": [
    "print(tabulate(beta_cell.head(10), tablefmt=\"pipe\", headers=\"keys\",showindex=\"never\"))"
   ]
  },
  {
   "cell_type": "code",
   "execution_count": 2,
   "metadata": {},
   "outputs": [
    {
     "ename": "HTTPError",
     "evalue": "403 Client Error: Forbidden for url: https://query.wikidata.org/sparql?query=%0A%0ASELECT+%3FgeneLabel+%3FcellTypeLabel+%3FprocessLabel%0AWHERE+%0A%7B%0A++%3Fprotein+wdt%3AP682+wd%3AQ1456827.+%23+protein+molecular+process+neurogenesis%0A++%3Fprotein+wdt%3AP702+%3Fgene.+++++++%23+protein+encoded+by+gene%0A++%0A++%7B%3Fgene+wdt%3AP31+wd%3AQ277338.%7D++++%23+gene+is+an+instance+of+a+pseudogene+%0A++UNION++++++++++++++++++++++++++%23+or%0A++%7B%3Fgene+wdt%3AP31+wd%3AQ7187.%7D++++++%23+gene+is+an+instance+of+a+gene%0A++%3Fgene+wdt%3AP703+wd%3AQ15978631.+++%23+gene+is+found+in+taxon+Homo+sapiens%0A++%0A++%3FcellType+wdt%3AP8872+%3Fgene.+++++%23+cell+type+has+marker+gene%0A++%0A++%3FcellType+rdfs%3Alabel+%3FcellTypeLabel.%0A++%3Fgene+++rdfs%3Alabel+%3FgeneLabel.%0A++wd%3AQ1456827+rdfs%3Alabel+%3FprocessLabel%0A%0A++FILTER%28LANG%28%3FcellTypeLabel%29+%3D+%22en%22%29%0A++FILTER%28LANG%28%3FgeneLabel%29+%3D+%22en%22%29%0A++FILTER%28LANG%28%3FprocessLabel%29+%3D+%22en%22%29%0A%0A%7D%0ALIMIT+10%0A",
     "output_type": "error",
     "traceback": [
      "\u001b[0;31m---------------------------------------------------------------------------\u001b[0m",
      "\u001b[0;31mHTTPError\u001b[0m                                 Traceback (most recent call last)",
      "\u001b[0;32m~/.local/lib/python3.6/site-packages/wikidata2df/wikidata2df.py\u001b[0m in \u001b[0;36mperform_query\u001b[0;34m(query)\u001b[0m\n\u001b[1;32m     32\u001b[0m         )\n\u001b[0;32m---> 33\u001b[0;31m         \u001b[0mresponse\u001b[0m\u001b[0;34m.\u001b[0m\u001b[0mraise_for_status\u001b[0m\u001b[0;34m(\u001b[0m\u001b[0;34m)\u001b[0m\u001b[0;34m\u001b[0m\u001b[0;34m\u001b[0m\u001b[0m\n\u001b[0m\u001b[1;32m     34\u001b[0m \u001b[0;34m\u001b[0m\u001b[0m\n",
      "\u001b[0;32m~/.local/lib/python3.6/site-packages/requests/models.py\u001b[0m in \u001b[0;36mraise_for_status\u001b[0;34m(self)\u001b[0m\n\u001b[1;32m    940\u001b[0m         \u001b[0;32mif\u001b[0m \u001b[0mhttp_error_msg\u001b[0m\u001b[0;34m:\u001b[0m\u001b[0;34m\u001b[0m\u001b[0;34m\u001b[0m\u001b[0m\n\u001b[0;32m--> 941\u001b[0;31m             \u001b[0;32mraise\u001b[0m \u001b[0mHTTPError\u001b[0m\u001b[0;34m(\u001b[0m\u001b[0mhttp_error_msg\u001b[0m\u001b[0;34m,\u001b[0m \u001b[0mresponse\u001b[0m\u001b[0;34m=\u001b[0m\u001b[0mself\u001b[0m\u001b[0;34m)\u001b[0m\u001b[0;34m\u001b[0m\u001b[0;34m\u001b[0m\u001b[0m\n\u001b[0m\u001b[1;32m    942\u001b[0m \u001b[0;34m\u001b[0m\u001b[0m\n",
      "\u001b[0;31mHTTPError\u001b[0m: 403 Client Error: Forbidden for url: https://query.wikidata.org/sparql?query=%0A%0ASELECT+%3FgeneLabel+%3FcellTypeLabel+%3FprocessLabel%0AWHERE+%0A%7B%0A++%3Fprotein+wdt%3AP682+wd%3AQ1456827.+%23+protein+molecular+process+neurogenesis%0A++%3Fprotein+wdt%3AP702+%3Fgene.+++++++%23+protein+encoded+by+gene%0A++%0A++%7B%3Fgene+wdt%3AP31+wd%3AQ277338.%7D++++%23+gene+is+an+instance+of+a+pseudogene+%0A++UNION++++++++++++++++++++++++++%23+or%0A++%7B%3Fgene+wdt%3AP31+wd%3AQ7187.%7D++++++%23+gene+is+an+instance+of+a+gene%0A++%3Fgene+wdt%3AP703+wd%3AQ15978631.+++%23+gene+is+found+in+taxon+Homo+sapiens%0A++%0A++%3FcellType+wdt%3AP8872+%3Fgene.+++++%23+cell+type+has+marker+gene%0A++%0A++%3FcellType+rdfs%3Alabel+%3FcellTypeLabel.%0A++%3Fgene+++rdfs%3Alabel+%3FgeneLabel.%0A++wd%3AQ1456827+rdfs%3Alabel+%3FprocessLabel%0A%0A++FILTER%28LANG%28%3FcellTypeLabel%29+%3D+%22en%22%29%0A++FILTER%28LANG%28%3FgeneLabel%29+%3D+%22en%22%29%0A++FILTER%28LANG%28%3FprocessLabel%29+%3D+%22en%22%29%0A%0A%7D%0ALIMIT+10%0A",
      "\nDuring handling of the above exception, another exception occurred:\n",
      "\u001b[0;31mHTTPError\u001b[0m                                 Traceback (most recent call last)",
      "\u001b[0;32m<ipython-input-2-ee7114cb624d>\u001b[0m in \u001b[0;36m<module>\u001b[0;34m\u001b[0m\n\u001b[1;32m     28\u001b[0m \"\"\"\n\u001b[1;32m     29\u001b[0m \u001b[0;34m\u001b[0m\u001b[0m\n\u001b[0;32m---> 30\u001b[0;31m \u001b[0mneurogenesis\u001b[0m \u001b[0;34m=\u001b[0m \u001b[0mwikidata2df\u001b[0m\u001b[0;34m(\u001b[0m\u001b[0mquery\u001b[0m\u001b[0;34m)\u001b[0m\u001b[0;34m\u001b[0m\u001b[0;34m\u001b[0m\u001b[0m\n\u001b[0m",
      "\u001b[0;32m~/.local/lib/python3.6/site-packages/wikidata2df/wikidata2df.py\u001b[0m in \u001b[0;36mwikidata2df\u001b[0;34m(query)\u001b[0m\n\u001b[1;32m     88\u001b[0m     \"\"\"\n\u001b[1;32m     89\u001b[0m \u001b[0;34m\u001b[0m\u001b[0m\n\u001b[0;32m---> 90\u001b[0;31m     \u001b[0mquery_res\u001b[0m \u001b[0;34m=\u001b[0m \u001b[0mperform_query\u001b[0m\u001b[0;34m(\u001b[0m\u001b[0mquery\u001b[0m\u001b[0;34m)\u001b[0m\u001b[0;34m\u001b[0m\u001b[0;34m\u001b[0m\u001b[0m\n\u001b[0m\u001b[1;32m     91\u001b[0m \u001b[0;34m\u001b[0m\u001b[0m\n\u001b[1;32m     92\u001b[0m     \u001b[0mparsed_res\u001b[0m \u001b[0;34m=\u001b[0m \u001b[0mparse_query_results\u001b[0m\u001b[0;34m(\u001b[0m\u001b[0mquery_res\u001b[0m\u001b[0;34m)\u001b[0m\u001b[0;34m\u001b[0m\u001b[0;34m\u001b[0m\u001b[0m\n",
      "\u001b[0;32m~/.local/lib/python3.6/site-packages/wikidata2df/wikidata2df.py\u001b[0m in \u001b[0;36mperform_query\u001b[0;34m(query)\u001b[0m\n\u001b[1;32m     34\u001b[0m \u001b[0;34m\u001b[0m\u001b[0m\n\u001b[1;32m     35\u001b[0m     \u001b[0;32mexcept\u001b[0m \u001b[0mrequests\u001b[0m\u001b[0;34m.\u001b[0m\u001b[0mexceptions\u001b[0m\u001b[0;34m.\u001b[0m\u001b[0mHTTPError\u001b[0m \u001b[0;32mas\u001b[0m \u001b[0merr\u001b[0m\u001b[0;34m:\u001b[0m\u001b[0;34m\u001b[0m\u001b[0;34m\u001b[0m\u001b[0m\n\u001b[0;32m---> 36\u001b[0;31m         \u001b[0;32mraise\u001b[0m \u001b[0mrequests\u001b[0m\u001b[0;34m.\u001b[0m\u001b[0mexceptions\u001b[0m\u001b[0;34m.\u001b[0m\u001b[0mHTTPError\u001b[0m\u001b[0;34m(\u001b[0m\u001b[0merr\u001b[0m\u001b[0;34m)\u001b[0m\u001b[0;34m\u001b[0m\u001b[0;34m\u001b[0m\u001b[0m\n\u001b[0m\u001b[1;32m     37\u001b[0m \u001b[0;34m\u001b[0m\u001b[0m\n\u001b[1;32m     38\u001b[0m     \u001b[0;32melse\u001b[0m\u001b[0;34m:\u001b[0m\u001b[0;34m\u001b[0m\u001b[0;34m\u001b[0m\u001b[0m\n",
      "\u001b[0;31mHTTPError\u001b[0m: 403 Client Error: Forbidden for url: https://query.wikidata.org/sparql?query=%0A%0ASELECT+%3FgeneLabel+%3FcellTypeLabel+%3FprocessLabel%0AWHERE+%0A%7B%0A++%3Fprotein+wdt%3AP682+wd%3AQ1456827.+%23+protein+molecular+process+neurogenesis%0A++%3Fprotein+wdt%3AP702+%3Fgene.+++++++%23+protein+encoded+by+gene%0A++%0A++%7B%3Fgene+wdt%3AP31+wd%3AQ277338.%7D++++%23+gene+is+an+instance+of+a+pseudogene+%0A++UNION++++++++++++++++++++++++++%23+or%0A++%7B%3Fgene+wdt%3AP31+wd%3AQ7187.%7D++++++%23+gene+is+an+instance+of+a+gene%0A++%3Fgene+wdt%3AP703+wd%3AQ15978631.+++%23+gene+is+found+in+taxon+Homo+sapiens%0A++%0A++%3FcellType+wdt%3AP8872+%3Fgene.+++++%23+cell+type+has+marker+gene%0A++%0A++%3FcellType+rdfs%3Alabel+%3FcellTypeLabel.%0A++%3Fgene+++rdfs%3Alabel+%3FgeneLabel.%0A++wd%3AQ1456827+rdfs%3Alabel+%3FprocessLabel%0A%0A++FILTER%28LANG%28%3FcellTypeLabel%29+%3D+%22en%22%29%0A++FILTER%28LANG%28%3FgeneLabel%29+%3D+%22en%22%29%0A++FILTER%28LANG%28%3FprocessLabel%29+%3D+%22en%22%29%0A%0A%7D%0ALIMIT+10%0A"
     ]
    }
   ],
   "source": [
    "from wikidata2df import wikidata2df\n",
    "\n",
    "query = \"\"\"\n",
    "\n",
    "SELECT ?geneLabel ?cellTypeLabel ?processLabel\n",
    "WHERE \n",
    "{\n",
    "  ?protein wdt:P682 wd:Q1456827. # protein molecular process neurogenesis\n",
    "  ?protein wdt:P702 ?gene.       # protein encoded by gene\n",
    "  \n",
    "  {?gene wdt:P31 wd:Q277338.}    # gene is an instance of a pseudogene \n",
    "  UNION                          # or\n",
    "  {?gene wdt:P31 wd:Q7187.}      # gene is an instance of a gene\n",
    "  ?gene wdt:P703 wd:Q15978631.   # gene is found in taxon Homo sapiens\n",
    "  \n",
    "  ?cellType wdt:P8872 ?gene.     # cell type has marker gene\n",
    "  \n",
    "  ?cellType rdfs:label ?cellTypeLabel.\n",
    "  ?gene   rdfs:label ?geneLabel.\n",
    "  wd:Q1456827 rdfs:label ?processLabel\n",
    "\n",
    "  FILTER(LANG(?cellTypeLabel) = \"en\")\n",
    "  FILTER(LANG(?geneLabel) = \"en\")\n",
    "  FILTER(LANG(?processLabel) = \"en\")\n",
    "\n",
    "}\n",
    "LIMIT 10\n",
    "\"\"\"\n",
    "\n",
    "neurogenesis = wikidata2df(query)"
   ]
  },
  {
   "cell_type": "code",
   "execution_count": 12,
   "metadata": {},
   "outputs": [
    {
     "name": "stdout",
     "output_type": "stream",
     "text": [
      "|    | cell_type                                 | cell_typeLabel         |   marker_count |\n",
      "|---:|:------------------------------------------|:-----------------------|---------------:|\n",
      "|  0 | http://www.wikidata.org/entity/Q101405035 | human interneuron      |            216 |\n",
      "|  1 | http://www.wikidata.org/entity/Q101405104 | human neuron           |            203 |\n",
      "|  2 | http://www.wikidata.org/entity/Q68621315  | human endothelial cell |            187 |\n",
      "|  3 | http://www.wikidata.org/entity/Q101404861 | human fibroblast       |            170 |\n",
      "|  4 | http://www.wikidata.org/entity/Q101405101 | human hepatocyte       |            149 |\n"
     ]
    }
   ],
   "source": [
    "import pandas as pd \n",
    "\n",
    "hs = pd.read_csv(\"types_hs.csv\")\n",
    "print(hs.to_markdown())"
   ]
  },
  {
   "cell_type": "code",
   "execution_count": 18,
   "metadata": {},
   "outputs": [
    {
     "name": "stdout",
     "output_type": "stream",
     "text": [
      "|    | cell_type                                 | cell_typeLabel                |   marker_count |\n",
      "|---:|:------------------------------------------|:------------------------------|---------------:|\n",
      "|  0 | http://www.wikidata.org/entity/Q102426621 | mouse neocortical interneuron |            219 |\n",
      "|  1 | http://www.wikidata.org/entity/Q104416243 | mouse interneuron             |            219 |\n",
      "|  2 | http://www.wikidata.org/entity/Q104416303 | mouse neuron                  |            210 |\n",
      "|  3 | http://www.wikidata.org/entity/Q104416178 | mouse endothelial cell        |            188 |\n",
      "|  4 | http://www.wikidata.org/entity/Q104416140 | mouse fibroblast              |            176 |\n"
     ]
    }
   ],
   "source": [
    "mm = pd.read_csv(\"types_mm.csv\")\n",
    "print(mm.to_markdown())"
   ]
  }
 ],
 "metadata": {
  "kernelspec": {
   "display_name": "Python 3",
   "language": "python",
   "name": "python3"
  },
  "language_info": {
   "codemirror_mode": {
    "name": "ipython",
    "version": 3
   },
   "file_extension": ".py",
   "mimetype": "text/x-python",
   "name": "python",
   "nbconvert_exporter": "python",
   "pygments_lexer": "ipython3",
   "version": "3.6.9"
  }
 },
 "nbformat": 4,
 "nbformat_minor": 4
}
