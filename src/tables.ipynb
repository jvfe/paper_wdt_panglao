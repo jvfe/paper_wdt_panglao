{
 "metadata": {
  "language_info": {
   "codemirror_mode": {
    "name": "ipython",
    "version": 3
   },
   "file_extension": ".py",
   "mimetype": "text/x-python",
   "name": "python",
   "nbconvert_exporter": "python",
   "pygments_lexer": "ipython3",
   "version": 3
  },
  "orig_nbformat": 2
 },
 "nbformat": 4,
 "nbformat_minor": 2,
 "cells": [
  {
   "cell_type": "code",
   "execution_count": 8,
   "metadata": {},
   "outputs": [],
   "source": [
    "from wikidata2df import wikidata2df\n",
    "\n",
    "query = \"\"\"\n",
    "\n",
    "SELECT ?geneLabel ?cellTypeLabel ?processLabel\n",
    "WHERE \n",
    "{\n",
    "  ?protein wdt:P682 wd:Q1456827. # protein molecular process neurogenesis\n",
    "  ?protein wdt:P702 ?gene.       # protein encoded by gene\n",
    "  \n",
    "  {?gene wdt:P31 wd:Q277338.}    # gene is an instance of a pseudogene \n",
    "  UNION                          # or\n",
    "  {?gene wdt:P31 wd:Q7187.}      # gene is an instance of a gene\n",
    "  ?gene wdt:P703 wd:Q15978631.   # gene is found in taxon Homo sapiens\n",
    "  \n",
    "  ?cellType wdt:P8872 ?gene.     # cell type has marker gene\n",
    "  \n",
    "  ?cellType rdfs:label ?cellTypeLabel.\n",
    "  ?gene   rdfs:label ?geneLabel.\n",
    "  wd:Q1456827 rdfs:label ?processLabel\n",
    "\n",
    "  FILTER(LANG(?cellTypeLabel) = \"en\")\n",
    "  FILTER(LANG(?geneLabel) = \"en\")\n",
    "  FILTER(LANG(?processLabel) = \"en\")\n",
    "\n",
    "}\n",
    "LIMIT 10\n",
    "\"\"\"\n",
    "\n",
    "neurogenesis = wikidata2df(query)"
   ]
  },
  {
   "cell_type": "code",
   "execution_count": 9,
   "metadata": {},
   "outputs": [
    {
     "output_type": "stream",
     "name": "stdout",
     "text": [
      "| geneLabel   | processLabel   | cellTypeLabel                   |\n|:------------|:---------------|:--------------------------------|\n| EPHB1       | neurogenesis   | human oligodendrocyte           |\n| EPHB1       | neurogenesis   | human osteoclast                |\n| OMP         | neurogenesis   | human purkinje neuron           |\n| OMP         | neurogenesis   | human olfactory epithelial cell |\n| OMP         | neurogenesis   | human neuron                    |\n| PCSK9       | neurogenesis   | human delta cell                |\n| PCSK9       | neurogenesis   | human loop of Henle cell        |\n| CXCR4       | neurogenesis   | human b cell                    |\n| CXCR4       | neurogenesis   | human T cell                    |\n| CXCR4       | neurogenesis   | human nk cell                   |\n"
     ]
    }
   ],
   "source": [
    "from tabulate import tabulate\n",
    "print(tabulate(neurogenesis.head(10), tablefmt=\"pipe\", headers=\"keys\",showindex=\"never\"))\n"
   ]
  },
  {
   "cell_type": "code",
   "execution_count": 10,
   "metadata": {},
   "outputs": [],
   "source": [
    "query = \"\"\"\n",
    "\n",
    "SELECT ?cellTypeLabel ?geneLabel ?diseaseLabel \n",
    "WHERE \n",
    "{\n",
    "  wd:Q11085 wdt:P2293 ?diseaseGene.  # Parkinson's disease --> genetic association --> gene\n",
    "  ?cellType wdt:P8872 ?diseaseGene. # Cell type --> has marker --> gene\n",
    "  \n",
    "  ?cellType rdfs:label ?cellTypeLabel.\n",
    "  wd:Q11085 rdfs:label ?diseaseLabel.\n",
    "  ?diseaseGene   rdfs:label ?geneLabel.\n",
    "\n",
    "  FILTER(LANG(?cellTypeLabel) = \"en\")\n",
    "  FILTER(LANG(?diseaseLabel) = \"en\")\n",
    "  FILTER(LANG(?geneLabel) = \"en\")\n",
    "}\n",
    "LIMIT 5\n",
    "\"\"\"\n",
    "\n",
    "# https://w.wiki/yQD\n",
    "\n",
    "parkinson = wikidata2df(query)"
   ]
  },
  {
   "cell_type": "code",
   "execution_count": 12,
   "metadata": {},
   "outputs": [
    {
     "output_type": "stream",
     "name": "stdout",
     "text": [
      "| geneLabel   | diseaseLabel        | cellTypeLabel    |\n|:------------|:--------------------|:-----------------|\n| BST1        | Parkinson's disease | human b cell     |\n| BST1        | Parkinson's disease | human neutrophil |\n| RIT2        | Parkinson's disease | human neuron     |\n| SH3GL2      | Parkinson's disease | human alpha cell |\n| SH3GL2      | Parkinson's disease | human beta cell  |\n"
     ]
    }
   ],
   "source": [
    "print(tabulate(parkinson.head(10), tablefmt=\"pipe\", headers=\"keys\",showindex=\"never\"))"
   ]
  },
  {
   "cell_type": "code",
   "execution_count": 13,
   "metadata": {},
   "outputs": [],
   "source": [
    "query = \"\"\"\n",
    "\n",
    "SELECT ?cellTypeLabel ?diseaseLabel \n",
    "(COUNT(DISTINCT ?diseaseGene) AS ?count) \n",
    "(GROUP_CONCAT(DISTINCT ?geneLabel; SEPARATOR=\", \") AS ?genes)\n",
    "WHERE \n",
    "{\n",
    "  wd:Q101405087 wdt:P8872 ?diseaseGene .    # human pancreatic beta cell -->  has marker -->  gene\n",
    "  ?disease wdt:P2293 ?diseaseGene .         # disease --> genetic association --> gene\n",
    "  \n",
    "  wd:Q101405087 rdfs:label ?cellTypeLabel .\n",
    "  ?disease rdfs:label ?diseaseLabel .\n",
    "  ?diseaseGene   rdfs:label ?geneLabel .\n",
    "\n",
    "  FILTER(LANG(?cellTypeLabel) = \"en\")\n",
    "  FILTER(LANG(?diseaseLabel) = \"en\")\n",
    "  FILTER(LANG(?geneLabel) = \"en\")\n",
    "  \n",
    " }\n",
    "\n",
    "GROUP BY ?diseaseLabel ?cellTypeLabel ORDER BY DESC(?count)\n",
    "LIMIT 5\n",
    "\"\"\"\n",
    "\n",
    "# https://w.wiki/yQE\n",
    "\n",
    "beta_cell = wikidata2df(query)"
   ]
  },
  {
   "cell_type": "code",
   "execution_count": 14,
   "metadata": {},
   "outputs": [
    {
     "output_type": "stream",
     "name": "stdout",
     "text": [
      "| diseaseLabel        | genes                   |   count | cellTypeLabel   |\n|:--------------------|:------------------------|--------:|:----------------|\n| obesity             | PCSK2, ADCYAP1, SLC30A8 |       3 | human beta cell |\n| type 2 diabetes     | SLC30A8, TGFBR3         |       2 | human beta cell |\n| Parkinson's disease | SH3GL2                  |       1 | human beta cell |\n| asthma              | SLC30A8                 |       1 | human beta cell |\n| aniridia            | PAX6                    |       1 | human beta cell |\n"
     ]
    }
   ],
   "source": [
    "print(tabulate(beta_cell.head(10), tablefmt=\"pipe\", headers=\"keys\",showindex=\"never\"))"
   ]
  }
 ]
}